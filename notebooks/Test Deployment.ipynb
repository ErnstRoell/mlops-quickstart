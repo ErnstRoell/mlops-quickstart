{
 "cells": [
  {
   "cell_type": "markdown",
   "metadata": {},
   "source": [
    "# Load Data for Testing"
   ]
  },
  {
   "cell_type": "code",
   "execution_count": null,
   "metadata": {},
   "outputs": [],
   "source": [
    "import numpy as np\n",
    "import pandas as pd\n",
    "from azureml.core.dataset import Dataset\n",
    "from azureml.core import Workspace\n",
    "\n",
    "# Load the car components labeled data from registered dataset\n",
    "ws = Workspace.from_config()\n",
    "print('Workspace configuration succeeded')\n",
    "cardata_ds_name = 'connected_car_components'\n",
    "cardata_ds = Dataset.get_by_name(workspace=ws, name=cardata_ds_name)\n",
    "\n",
    "car_components_df = cardata_ds.to_pandas_dataframe()\n",
    "data = car_components_df[\"text\"].tolist()\n",
    "labels = car_components_df[\"label\"].tolist()\n",
    "data = np.asarray(data)\n",
    "labels = np.asarray(labels)\n",
    "\n",
    "indices = np.arange(data.shape[0])                     \n",
    "np.random.shuffle(indices)\n",
    "data = data[indices]\n",
    "labels = labels[indices]"
   ]
  },
  {
   "cell_type": "markdown",
   "metadata": {},
   "source": [
    "## Prepare Test Data"
   ]
  },
  {
   "cell_type": "code",
   "execution_count": null,
   "metadata": {},
   "outputs": [],
   "source": [
    "test_size = 10\n",
    "\n",
    "x_test = data[0:test_size]\n",
    "y_test = labels[0:test_size]\n",
    "\n",
    "print('Shape of test data tensor:', x_test.shape)\n",
    "print('Shape of test label tensor:', y_test.shape)"
   ]
  },
  {
   "cell_type": "markdown",
   "metadata": {},
   "source": [
    "# Test Deployment\n",
    "\n",
    "Provide the **Scoring URI** and **API Key** for the deployed webservice"
   ]
  },
  {
   "cell_type": "code",
   "execution_count": null,
   "metadata": {},
   "outputs": [],
   "source": [
    "web_service_url = '' # provide the scoring URI\n",
    "api_key = '' # provide API key"
   ]
  },
  {
   "cell_type": "markdown",
   "metadata": {},
   "source": [
    "## Make HTTP calls to test the deployed Webservice"
   ]
  },
  {
   "cell_type": "code",
   "execution_count": null,
   "metadata": {},
   "outputs": [],
   "source": [
    "import requests\n",
    "import json\n",
    "\n",
    "headers = {'Content-Type':'application/json', 'Authorization':('Bearer '+ api_key)}\n",
    "response = requests.post(web_service_url, json.dumps(x_test.tolist()), headers=headers)\n",
    "print('Predictions')\n",
    "print(response.text)\n",
    "print('Labels')\n",
    "print(y_test)"
   ]
  }
 ],
 "metadata": {
  "kernelspec": {
   "display_name": "Python 3.6 - AzureML",
   "language": "python",
   "name": "python3-azureml"
  },
  "language_info": {
   "codemirror_mode": {
    "name": "ipython",
    "version": 3
   },
   "file_extension": ".py",
   "mimetype": "text/x-python",
   "name": "python",
   "nbconvert_exporter": "python",
   "pygments_lexer": "ipython3",
   "version": "3.6.9"
  }
 },
 "nbformat": 4,
 "nbformat_minor": 1
}
